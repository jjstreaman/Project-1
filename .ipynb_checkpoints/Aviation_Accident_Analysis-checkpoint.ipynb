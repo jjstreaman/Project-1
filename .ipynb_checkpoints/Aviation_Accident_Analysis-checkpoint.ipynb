{
 "cells": [
  {
   "cell_type": "markdown",
   "metadata": {},
   "source": [
    "# Aviation Accidents Analysis"
   ]
  },
  {
   "cell_type": "markdown",
   "metadata": {},
   "source": [
    "## Overview\n",
    "\n",
    "This project analyzes data of aviation accidents to recommend the best aircrafts for a business to invest in."
   ]
  },
  {
   "cell_type": "markdown",
   "metadata": {},
   "source": [
    "## Business Problem\n",
    "\n",
    "Your company has decided to expand the industries to diversify its portfolio and has chosen aviation to invest in. They are interested in finding aircrafts for private and commercial enterprises. However, they do not know the potential risks that come with each aircraft make, so it's your job to determine the potential risks that may arise on investment. Finally, analyze them to yield three actionable recommendations for the head of their Aviation team to make.\n"
   ]
  },
  {
   "cell_type": "code",
   "execution_count": 36,
   "metadata": {},
   "outputs": [],
   "source": [
    "# import python packages for analyis, computation and visualizations\n",
    "import pandas as pd\n",
    "import matplotlib.pyplot as plt\n",
    "import seaborn as sns\n",
    "import numpy as np"
   ]
  },
  {
   "cell_type": "code",
   "execution_count": 37,
   "metadata": {},
   "outputs": [],
   "source": [
    "# Loading in the data with pd.read_csv\n",
    "Aviation_data = pd.read_csv('https://raw.githubusercontent.com/nechamab/Project-1/main/Data/Aviation_data.csv', low_memory=False, encoding='latin-1')"
   ]
  },
  {
   "cell_type": "code",
   "execution_count": 38,
   "metadata": {},
   "outputs": [
    {
     "name": "stdout",
     "output_type": "stream",
     "text": [
      "<class 'pandas.core.frame.DataFrame'>\n",
      "RangeIndex: 9607 entries, 0 to 9606\n",
      "Data columns (total 19 columns):\n",
      " #   Column                  Non-Null Count  Dtype  \n",
      "---  ------                  --------------  -----  \n",
      " 0   Unnamed: 0              9607 non-null   int64  \n",
      " 1   Event.Id                9607 non-null   object \n",
      " 2   Investigation.Type      9607 non-null   object \n",
      " 3   Event.Date              9607 non-null   int64  \n",
      " 4   Location                9607 non-null   object \n",
      " 5   Country                 9607 non-null   object \n",
      " 6   Injury.Severity         9607 non-null   object \n",
      " 7   Aircraft.damage         9607 non-null   object \n",
      " 8   Aircraft.Category       9607 non-null   object \n",
      " 9   Make                    9607 non-null   object \n",
      " 10  Model                   9607 non-null   object \n",
      " 11  Number.of.Engines       9607 non-null   float64\n",
      " 12  Air.carrier             5400 non-null   object \n",
      " 13  Total.Fatal.Injuries    9607 non-null   float64\n",
      " 14  Total.Serious.Injuries  9607 non-null   float64\n",
      " 15  Total.Minor.Injuries    9607 non-null   float64\n",
      " 16  Total.Uninjured         9607 non-null   float64\n",
      " 17  Weather.Condition       9607 non-null   object \n",
      " 18  Report.Status           9607 non-null   object \n",
      "dtypes: float64(5), int64(2), object(12)\n",
      "memory usage: 1.4+ MB\n"
     ]
    }
   ],
   "source": [
    "# Summarize data frame info\n",
    "Aviation_data.info()"
   ]
  },
  {
   "cell_type": "code",
   "execution_count": 39,
   "metadata": {
    "scrolled": true
   },
   "outputs": [
    {
     "data": {
      "text/html": [
       "<div>\n",
       "<style scoped>\n",
       "    .dataframe tbody tr th:only-of-type {\n",
       "        vertical-align: middle;\n",
       "    }\n",
       "\n",
       "    .dataframe tbody tr th {\n",
       "        vertical-align: top;\n",
       "    }\n",
       "\n",
       "    .dataframe thead th {\n",
       "        text-align: right;\n",
       "    }\n",
       "</style>\n",
       "<table border=\"1\" class=\"dataframe\">\n",
       "  <thead>\n",
       "    <tr style=\"text-align: right;\">\n",
       "      <th></th>\n",
       "      <th>Unnamed: 0</th>\n",
       "      <th>Event.Date</th>\n",
       "      <th>Number.of.Engines</th>\n",
       "      <th>Total.Fatal.Injuries</th>\n",
       "      <th>Total.Serious.Injuries</th>\n",
       "      <th>Total.Minor.Injuries</th>\n",
       "      <th>Total.Uninjured</th>\n",
       "    </tr>\n",
       "  </thead>\n",
       "  <tbody>\n",
       "    <tr>\n",
       "      <th>count</th>\n",
       "      <td>9607.000000</td>\n",
       "      <td>9607.000000</td>\n",
       "      <td>9607.000000</td>\n",
       "      <td>9607.000000</td>\n",
       "      <td>9607.000000</td>\n",
       "      <td>9607.000000</td>\n",
       "      <td>9607.000000</td>\n",
       "    </tr>\n",
       "    <tr>\n",
       "      <th>mean</th>\n",
       "      <td>74736.649110</td>\n",
       "      <td>2013.729989</td>\n",
       "      <td>1.129652</td>\n",
       "      <td>0.269907</td>\n",
       "      <td>0.300198</td>\n",
       "      <td>0.143333</td>\n",
       "      <td>4.054231</td>\n",
       "    </tr>\n",
       "    <tr>\n",
       "      <th>std</th>\n",
       "      <td>6510.109544</td>\n",
       "      <td>3.905393</td>\n",
       "      <td>0.345776</td>\n",
       "      <td>0.784846</td>\n",
       "      <td>2.270722</td>\n",
       "      <td>0.696174</td>\n",
       "      <td>22.769401</td>\n",
       "    </tr>\n",
       "    <tr>\n",
       "      <th>min</th>\n",
       "      <td>63915.000000</td>\n",
       "      <td>2008.000000</td>\n",
       "      <td>1.000000</td>\n",
       "      <td>0.000000</td>\n",
       "      <td>0.000000</td>\n",
       "      <td>0.000000</td>\n",
       "      <td>0.000000</td>\n",
       "    </tr>\n",
       "    <tr>\n",
       "      <th>25%</th>\n",
       "      <td>69149.000000</td>\n",
       "      <td>2010.000000</td>\n",
       "      <td>1.000000</td>\n",
       "      <td>0.000000</td>\n",
       "      <td>0.000000</td>\n",
       "      <td>0.000000</td>\n",
       "      <td>0.000000</td>\n",
       "    </tr>\n",
       "    <tr>\n",
       "      <th>50%</th>\n",
       "      <td>74495.000000</td>\n",
       "      <td>2013.000000</td>\n",
       "      <td>1.000000</td>\n",
       "      <td>0.000000</td>\n",
       "      <td>0.000000</td>\n",
       "      <td>0.000000</td>\n",
       "      <td>1.000000</td>\n",
       "    </tr>\n",
       "    <tr>\n",
       "      <th>75%</th>\n",
       "      <td>80029.500000</td>\n",
       "      <td>2017.000000</td>\n",
       "      <td>1.000000</td>\n",
       "      <td>0.000000</td>\n",
       "      <td>0.000000</td>\n",
       "      <td>0.000000</td>\n",
       "      <td>2.000000</td>\n",
       "    </tr>\n",
       "    <tr>\n",
       "      <th>max</th>\n",
       "      <td>88661.000000</td>\n",
       "      <td>2022.000000</td>\n",
       "      <td>4.000000</td>\n",
       "      <td>11.000000</td>\n",
       "      <td>137.000000</td>\n",
       "      <td>50.000000</td>\n",
       "      <td>394.000000</td>\n",
       "    </tr>\n",
       "  </tbody>\n",
       "</table>\n",
       "</div>"
      ],
      "text/plain": [
       "         Unnamed: 0   Event.Date  Number.of.Engines  Total.Fatal.Injuries  \\\n",
       "count   9607.000000  9607.000000        9607.000000           9607.000000   \n",
       "mean   74736.649110  2013.729989           1.129652              0.269907   \n",
       "std     6510.109544     3.905393           0.345776              0.784846   \n",
       "min    63915.000000  2008.000000           1.000000              0.000000   \n",
       "25%    69149.000000  2010.000000           1.000000              0.000000   \n",
       "50%    74495.000000  2013.000000           1.000000              0.000000   \n",
       "75%    80029.500000  2017.000000           1.000000              0.000000   \n",
       "max    88661.000000  2022.000000           4.000000             11.000000   \n",
       "\n",
       "       Total.Serious.Injuries  Total.Minor.Injuries  Total.Uninjured  \n",
       "count             9607.000000           9607.000000      9607.000000  \n",
       "mean                 0.300198              0.143333         4.054231  \n",
       "std                  2.270722              0.696174        22.769401  \n",
       "min                  0.000000              0.000000         0.000000  \n",
       "25%                  0.000000              0.000000         0.000000  \n",
       "50%                  0.000000              0.000000         1.000000  \n",
       "75%                  0.000000              0.000000         2.000000  \n",
       "max                137.000000             50.000000       394.000000  "
      ]
     },
     "execution_count": 39,
     "metadata": {},
     "output_type": "execute_result"
    }
   ],
   "source": [
    "# Summarize data frame statistics\n",
    "Aviation_data.describe()"
   ]
  },
  {
   "cell_type": "code",
   "execution_count": 40,
   "metadata": {},
   "outputs": [
    {
     "data": {
      "image/png": "[encoded data removed]",
      "text/plain": [
       "<Figure size 576x432 with 1 Axes>"
      ]
     },
     "metadata": {
      "needs_background": "light"
     },
     "output_type": "display_data"
    }
   ],
   "source": [
    "# plot top ten to show\n",
    "fig, ax = plt.subplots(figsize=(8,6))\n",
    "top_ten_makes = Aviation_data.Make.value_counts()\n",
    "top_ten_makes.plot.bar()\n",
    "\n",
    "ax.set_title('Top Ten Airplane Makes')\n",
    "ax.set_xlabel('Top Ten Makes')\n",
    "ax.set_ylabel('Frequency')\n",
    "\n",
    "plt.savefig('Top Ten Airplane Makes')\n",
    "plt.show();"
   ]
  },
  {
   "cell_type": "code",
   "execution_count": 41,
   "metadata": {},
   "outputs": [
    {
     "data": {
      "text/plain": [
       "Cessna                4638\n",
       "Piper                 2691\n",
       "Beech                  935\n",
       "Boeing                 291\n",
       "Mooney                 238\n",
       "Air Tractor Inc        192\n",
       "Cirrus Design Corp     169\n",
       "Bellanca               159\n",
       "Maule                  150\n",
       "Aeronca                144\n",
       "Name: Make, dtype: int64"
      ]
     },
     "execution_count": 41,
     "metadata": {},
     "output_type": "execute_result"
    }
   ],
   "source": [
    "top_ten_makes "
   ]
  },
  {
   "cell_type": "markdown",
   "metadata": {},
   "source": [
    "## Data Understanding\n",
    "\n",
    "The data includes information from the National Transportation Safety Board that includes aviation accident data from 1962 to 2023 about civil aviation accidents and selected incidents in the United States and international waters. This information will be useful for finding the best aircraft models to invest in based on previous accidents.\n",
    "\n",
    "The Avaiation dataframe includes 18 columns. For each incident it covers 18 categories, including but not limited to the investigation type, make and model of the plane, weather and location data, information about the flight, and damage to the plane and injuries to passengers. "
   ]
  },
  {
   "cell_type": "markdown",
   "metadata": {},
   "source": [
    "## Data Analysis\n",
    "This analysis centers on aviation accidents within the United States and international waters, and is conducted with the aim of providing valuable insights to your company’s stakeholders. The ultimate objective is to provide recommendations about which aircraft models would be most profitable, with the least potential risk on investing."
   ]
  },
  {
   "cell_type": "markdown",
   "metadata": {},
   "source": [
    "## Accident versus Incident\n",
    "\n",
    "If an event appears in this dataset it means something went wrong, but what? There are two types of events, accidents and incidents. An event is defined as an accident when an injury occurs. Incident means an occurrence other than an accident, where something went wrong but did not escalate to an accident due to safety measures. \n",
    "Based on the analysis below we will draw conclusions to see which aircraft makes have sufficient safety measures."
   ]
  },
  {
   "cell_type": "code",
   "execution_count": 14,
   "metadata": {},
   "outputs": [],
   "source": [
    "# Create pivot table to illustrate count of accident and incident per make\n",
    "grouped = Aviation_data.pivot_table(index='Make', columns='Investigation.Type', aggfunc='size', fill_value=0)"
   ]
  },
  {
   "cell_type": "code",
   "execution_count": 15,
   "metadata": {},
   "outputs": [],
   "source": [
    "# Add a new column for the ratio of accidents to total incidents and accidents\n",
    "grouped['Ratio'] = grouped['Accident'] / (grouped['Accident'] + grouped['Incident'])"
   ]
  },
  {
   "cell_type": "code",
   "execution_count": 43,
   "metadata": {},
   "outputs": [
    {
     "data": {
      "text/html": [
       "<div>\n",
       "<style scoped>\n",
       "    .dataframe tbody tr th:only-of-type {\n",
       "        vertical-align: middle;\n",
       "    }\n",
       "\n",
       "    .dataframe tbody tr th {\n",
       "        vertical-align: top;\n",
       "    }\n",
       "\n",
       "    .dataframe thead th {\n",
       "        text-align: right;\n",
       "    }\n",
       "</style>\n",
       "<table border=\"1\" class=\"dataframe\">\n",
       "  <thead>\n",
       "    <tr style=\"text-align: right;\">\n",
       "      <th>Investigation.Type</th>\n",
       "      <th>Accident</th>\n",
       "      <th>Incident</th>\n",
       "      <th>Ratio</th>\n",
       "    </tr>\n",
       "    <tr>\n",
       "      <th>Make</th>\n",
       "      <th></th>\n",
       "      <th></th>\n",
       "      <th></th>\n",
       "    </tr>\n",
       "  </thead>\n",
       "  <tbody>\n",
       "    <tr>\n",
       "      <th>Boeing</th>\n",
       "      <td>212</td>\n",
       "      <td>79</td>\n",
       "      <td>0.728522</td>\n",
       "    </tr>\n",
       "    <tr>\n",
       "      <th>Cirrus Design Corp</th>\n",
       "      <td>159</td>\n",
       "      <td>10</td>\n",
       "      <td>0.940828</td>\n",
       "    </tr>\n",
       "    <tr>\n",
       "      <th>Beech</th>\n",
       "      <td>918</td>\n",
       "      <td>17</td>\n",
       "      <td>0.981818</td>\n",
       "    </tr>\n",
       "    <tr>\n",
       "      <th>Mooney</th>\n",
       "      <td>234</td>\n",
       "      <td>4</td>\n",
       "      <td>0.983193</td>\n",
       "    </tr>\n",
       "    <tr>\n",
       "      <th>Cessna</th>\n",
       "      <td>4580</td>\n",
       "      <td>58</td>\n",
       "      <td>0.987495</td>\n",
       "    </tr>\n",
       "    <tr>\n",
       "      <th>Piper</th>\n",
       "      <td>2670</td>\n",
       "      <td>21</td>\n",
       "      <td>0.992196</td>\n",
       "    </tr>\n",
       "    <tr>\n",
       "      <th>Bellanca</th>\n",
       "      <td>158</td>\n",
       "      <td>1</td>\n",
       "      <td>0.993711</td>\n",
       "    </tr>\n",
       "    <tr>\n",
       "      <th>Air Tractor Inc</th>\n",
       "      <td>191</td>\n",
       "      <td>1</td>\n",
       "      <td>0.994792</td>\n",
       "    </tr>\n",
       "    <tr>\n",
       "      <th>Aeronca</th>\n",
       "      <td>144</td>\n",
       "      <td>0</td>\n",
       "      <td>1.000000</td>\n",
       "    </tr>\n",
       "    <tr>\n",
       "      <th>Maule</th>\n",
       "      <td>150</td>\n",
       "      <td>0</td>\n",
       "      <td>1.000000</td>\n",
       "    </tr>\n",
       "  </tbody>\n",
       "</table>\n",
       "</div>"
      ],
      "text/plain": [
       "Investigation.Type  Accident  Incident     Ratio\n",
       "Make                                            \n",
       "Boeing                   212        79  0.728522\n",
       "Cirrus Design Corp       159        10  0.940828\n",
       "Beech                    918        17  0.981818\n",
       "Mooney                   234         4  0.983193\n",
       "Cessna                  4580        58  0.987495\n",
       "Piper                   2670        21  0.992196\n",
       "Bellanca                 158         1  0.993711\n",
       "Air Tractor Inc          191         1  0.994792\n",
       "Aeronca                  144         0  1.000000\n",
       "Maule                    150         0  1.000000"
      ]
     },
     "execution_count": 43,
     "metadata": {},
     "output_type": "execute_result"
    }
   ],
   "source": [
    "grouped.sort_values('Ratio')"
   ]
  },
  {
   "cell_type": "markdown",
   "metadata": {},
   "source": [
    "**Table.**\n",
    "\n",
    "The table is divided by make and has counts for both accidents and incidents. It also contains the ratio of accidents to total events. If the ratio trends towards 1 it has a high frequency of accidents and the closer it is to 0, the lower the frequency of accidents. This highlights the makes that have safety measures in place to avoid an incident escalating to an accident. \n",
    "\n",
    "**Findings.**\n",
    "\n",
    "There isnt a widespread variation between ratios given the small metric.\n",
    "Boeing's ratio is the lowest with 0.728522 which brings it out on top with best safety measures in this analysis. Boeing is follwed by Beech and Mooney for second and third and Aeronca and Maule tie for last. According to this table, Boeing, Beech and Mooney have the most efficient safety measures in place."
   ]
  },
  {
   "cell_type": "markdown",
   "metadata": {},
   "source": [
    "## Pilots Negligence or Engine Failure"
   ]
  },
  {
   "cell_type": "markdown",
   "metadata": {},
   "source": [
    "We want to further explore the sources behind all the accidents and incidents. After, getting a closer look into the Report Status column. there were some reoccurring words such as 'pilot', 'failure', and 'engine'. We created a new column in the dataset that go through each row in Report Status looking for specific key words ('pilot' and 'engine') and categorize them into two values: Human and Mechanical.\n"
   ]
  },
  {
   "cell_type": "code",
   "execution_count": 17,
   "metadata": {},
   "outputs": [],
   "source": [
    "#creating a new column for human/mechanical error\n",
    "Aviation_data['source_cause'] = Aviation_data['Report.Status'].str.contains((\"pilot\" or \n",
    "                                \"pilot's\" or \"technician's\" or \"company maintenance personnel\" or \"student\" or \n",
    "                                \"instructor\" or \"failure\")).astype('int').replace({1: 'Human', 0: 'Mechanical'})"
   ]
  },
  {
   "cell_type": "markdown",
   "metadata": {},
   "source": [
    "We focused our findings on the top ten Makes, and normalized the errors that are associated with them. "
   ]
  },
  {
   "cell_type": "code",
   "execution_count": 18,
   "metadata": {},
   "outputs": [
    {
     "data": {
      "text/plain": [
       "9903"
      ]
     },
     "execution_count": 18,
     "metadata": {},
     "output_type": "execute_result"
    }
   ],
   "source": [
    "top_ten_make = ['Cessna', 'Piper', 'Beech', 'Air Tractor Inc', 'Boeing', 'Mooney', 'Cirrus Design Corp', \n",
    "                'Bellanca', 'Maule', 'Aeronca']\n",
    "human_error = [3656, 2068, 676, 234, 73, 213, 188, 125, 128, 126]\n",
    "mechanical_error = [1006, 639, 272, 70, 222, 65, 67, 34, 22, 19]\n",
    "x = sum(human_error)\n",
    "y = sum(mechanical_error)\n",
    "total = x + y\n",
    "total"
   ]
  },
  {
   "cell_type": "code",
   "execution_count": 19,
   "metadata": {},
   "outputs": [
    {
     "name": "stdout",
     "output_type": "stream",
     "text": [
      "[0.3691810562455822, 0.2088256084014945, 0.06826214278501465, 0.023629203271735837, 0.007371503584772291, 0.02150863374734929, 0.01898414621831768, 0.012622437645158033, 0.012925376148641825, 0.012723417146319298]\n"
     ]
    }
   ],
   "source": [
    "normalized_human_error = []\n",
    "\n",
    "for error in human_error:\n",
    "    normalize = int(error)/total\n",
    "    normalized_human_error.append(normalize)\n",
    "\n",
    "print(normalized_human_error)"
   ]
  },
  {
   "cell_type": "code",
   "execution_count": 20,
   "metadata": {},
   "outputs": [
    {
     "name": "stdout",
     "output_type": "stream",
     "text": [
      "[0.10158537816823185, 0.06452590124204786, 0.02746642431586388, 0.007068565081288498, 0.022417449257800665, 0.006563667575482177, 0.006765626577804705, 0.003433303039482985, 0.0022215490255478136, 0.001918610522064021]\n"
     ]
    }
   ],
   "source": [
    "normalized_mechanical_error = []\n",
    "\n",
    "for error in mechanical_error:\n",
    "    normalize = int(error)/total\n",
    "    normalized_mechanical_error.append(normalize)\n",
    "\n",
    "print(normalized_mechanical_error)"
   ]
  },
  {
   "cell_type": "code",
   "execution_count": 21,
   "metadata": {},
   "outputs": [],
   "source": [
    "dict = {'Makes': top_ten_make, 'Normalized Human Error': normalized_human_error, 'Normalized Mechanical Error': normalized_mechanical_error}\n",
    "normalized_df = pd.DataFrame(dict)"
   ]
  },
  {
   "cell_type": "code",
   "execution_count": 22,
   "metadata": {},
   "outputs": [
    {
     "data": {
      "image/png": "[encoded data removed]",
      "text/plain": [
       "<Figure size 1080x864 with 1 Axes>"
      ]
     },
     "metadata": {
      "needs_background": "light"
     },
     "output_type": "display_data"
    }
   ],
   "source": [
    "# Reshape the data using pd.melt()\n",
    "melted_df = pd.melt(normalized_df, id_vars='Makes', value_vars=['Normalized Human Error', 'Normalized Mechanical Error'])\n",
    "\n",
    "# Create the side-by-side bar plot\n",
    "fig, ax = plt.subplots(figsize=(15, 12))\n",
    "sns.barplot(x='Makes', y='value', hue='variable', data=melted_df, ax=ax)\n",
    "\n",
    "# Customize the legend and axes labels if needed\n",
    "ax.set_title('Normalized Distribution of Errors for overall Makes')\n",
    "ax.legend(title='Error Type')\n",
    "ax.set_xlabel('Makes')\n",
    "ax.set_ylabel('Error (%)')\n",
    "\n",
    "plt.savefig('seaborn_normalized_errors3')\n",
    "plt.show()"
   ]
  },
  {
   "cell_type": "markdown",
   "metadata": {},
   "source": [
    "We can see from our graph that Cessna has the highest rate of Human Error and Mechanical Error. Earlier, we saw that Cessna also has the highest number of accidents. We can conclude there may not be a sufficient number of safety measures in place. Moreover, we can see that Boeing is the only Make with more mechanical errors than human errors. Let's see which of its models has the most mechanical errors. \n"
   ]
  },
  {
   "cell_type": "code",
   "execution_count": null,
   "metadata": {},
   "outputs": [],
   "source": [
    "boeing_df = aviation_data.groupby(['Make', 'Model', 'source_cause']).agg({'source_cause':\n",
    "                                                                          'count'}).rename(columns = {'source_cause': 'Count of Errors'})\n",
    "boeing_df = boeing_df.iloc[866:951]\n",
    "boeing_df = boeing_df.sort_values('Count of Errors', ascending = False) #sorting the values from highest to lowest\n",
    "boeing_df.head()"
   ]
  },
  {
   "cell_type": "markdown",
   "metadata": {},
   "source": [
    "Overall, the majority of Boeing models have fewer than 10 instances of mechanical or human error, with Model 737 leading in mechanical errors with a total of 24 occurrences."
   ]
  },
  {
   "cell_type": "markdown",
   "metadata": {},
   "source": [
    "## Risk of Personal Injury"
   ]
  },
  {
   "cell_type": "code",
   "execution_count": 23,
   "metadata": {},
   "outputs": [],
   "source": [
    "topten_updated_df = Aviation_data"
   ]
  },
  {
   "cell_type": "code",
   "execution_count": 24,
   "metadata": {},
   "outputs": [
    {
     "name": "stdout",
     "output_type": "stream",
     "text": [
      "<class 'pandas.core.frame.DataFrame'>\n",
      "RangeIndex: 9607 entries, 0 to 9606\n",
      "Data columns (total 20 columns):\n",
      " #   Column                  Non-Null Count  Dtype  \n",
      "---  ------                  --------------  -----  \n",
      " 0   Unnamed: 0              9607 non-null   int64  \n",
      " 1   Event.Id                9607 non-null   object \n",
      " 2   Investigation.Type      9607 non-null   object \n",
      " 3   Event.Date              9607 non-null   int64  \n",
      " 4   Location                9607 non-null   object \n",
      " 5   Country                 9607 non-null   object \n",
      " 6   Injury.Severity         9607 non-null   object \n",
      " 7   Aircraft.damage         9607 non-null   object \n",
      " 8   Aircraft.Category       9607 non-null   object \n",
      " 9   Make                    9607 non-null   object \n",
      " 10  Model                   9607 non-null   object \n",
      " 11  Number.of.Engines       9607 non-null   float64\n",
      " 12  Air.carrier             5400 non-null   object \n",
      " 13  Total.Fatal.Injuries    9607 non-null   float64\n",
      " 14  Total.Serious.Injuries  9607 non-null   float64\n",
      " 15  Total.Minor.Injuries    9607 non-null   float64\n",
      " 16  Total.Uninjured         9607 non-null   float64\n",
      " 17  Weather.Condition       9607 non-null   object \n",
      " 18  Report.Status           9607 non-null   object \n",
      " 19  source_cause            9607 non-null   object \n",
      "dtypes: float64(5), int64(2), object(13)\n",
      "memory usage: 1.5+ MB\n"
     ]
    }
   ],
   "source": [
    "topten_updated_df.info()"
   ]
  },
  {
   "cell_type": "code",
   "execution_count": 25,
   "metadata": {},
   "outputs": [
    {
     "data": {
      "text/plain": [
       "Cessna                4638\n",
       "Piper                 2691\n",
       "Beech                  935\n",
       "Boeing                 291\n",
       "Mooney                 238\n",
       "Air Tractor Inc        192\n",
       "Cirrus Design Corp     169\n",
       "Bellanca               159\n",
       "Maule                  150\n",
       "Aeronca                144\n",
       "Name: Make, dtype: int64"
      ]
     },
     "execution_count": 25,
     "metadata": {},
     "output_type": "execute_result"
    }
   ],
   "source": [
    "top_ten_makes = topten_updated_df.Make.value_counts()\n",
    "top_ten_makes"
   ]
  },
  {
   "cell_type": "code",
   "execution_count": 26,
   "metadata": {},
   "outputs": [],
   "source": [
    "topten_updated_df.loc[:,'Total.Affected.Pass'] = topten_updated_df[['Total.Fatal.Injuries', 'Total.Serious.Injuries', 'Total.Minor.Injuries']].sum(axis=1)"
   ]
  },
  {
   "cell_type": "code",
   "execution_count": 27,
   "metadata": {},
   "outputs": [
    {
     "data": {
      "text/plain": [
       "0.0      6082\n",
       "1.0      1817\n",
       "2.0      1106\n",
       "3.0       292\n",
       "4.0       204\n",
       "5.0        54\n",
       "6.0        22\n",
       "7.0        10\n",
       "10.0        3\n",
       "8.0         3\n",
       "12.0        2\n",
       "9.0         2\n",
       "13.0        2\n",
       "134.0       1\n",
       "21.0        1\n",
       "190.0       1\n",
       "88.0        1\n",
       "26.0        1\n",
       "22.0        1\n",
       "11.0        1\n",
       "47.0        1\n",
       "Name: Total.Affected.Pass, dtype: int64"
      ]
     },
     "execution_count": 27,
     "metadata": {},
     "output_type": "execute_result"
    }
   ],
   "source": [
    "topten_updated_df['Total.Affected.Pass'].value_counts()"
   ]
  },
  {
   "cell_type": "code",
   "execution_count": 28,
   "metadata": {},
   "outputs": [],
   "source": [
    "topten_updated_df = topten_updated_df[topten_updated_df['Total.Affected.Pass'] != 0.0]"
   ]
  },
  {
   "cell_type": "code",
   "execution_count": 29,
   "metadata": {},
   "outputs": [
    {
     "data": {
      "text/plain": [
       "1.0      1817\n",
       "2.0      1106\n",
       "3.0       292\n",
       "4.0       204\n",
       "5.0        54\n",
       "6.0        22\n",
       "7.0        10\n",
       "10.0        3\n",
       "8.0         3\n",
       "13.0        2\n",
       "9.0         2\n",
       "12.0        2\n",
       "190.0       1\n",
       "88.0        1\n",
       "134.0       1\n",
       "22.0        1\n",
       "21.0        1\n",
       "11.0        1\n",
       "47.0        1\n",
       "26.0        1\n",
       "Name: Total.Affected.Pass, dtype: int64"
      ]
     },
     "execution_count": 29,
     "metadata": {},
     "output_type": "execute_result"
    }
   ],
   "source": [
    "topten_updated_df['Total.Affected.Pass'].value_counts()"
   ]
  },
  {
   "cell_type": "code",
   "execution_count": 30,
   "metadata": {},
   "outputs": [
    {
     "data": {
      "text/plain": [
       "Text(0.5, 1.0, 'Make by Total Affected Passengers')"
      ]
     },
     "execution_count": 30,
     "metadata": {},
     "output_type": "execute_result"
    },
    {
     "data": {
      "image/png": "[encoded data removed]",
      "text/plain": [
       "<Figure size 432x288 with 1 Axes>"
      ]
     },
     "metadata": {
      "needs_background": "light"
     },
     "output_type": "display_data"
    }
   ],
   "source": [
    "#comparing minor, serious, fatal passengers to Make of plane\n",
    "pass_affect = topten_updated_df.groupby('Make')['Total.Affected.Pass'].sum()\n",
    "\n",
    "fig, ax = plt.subplots()\n",
    "ax.bar(pass_affect.index, pass_affect.values)\n",
    "\n",
    "ax.tick_params(axis = 'x', rotation = 90)\n",
    "ax.set_ylabel('Passengers')\n",
    "ax.set_xlabel('Make')\n",
    "ax.set_title('Make by Total Affected Passengers')"
   ]
  },
  {
   "cell_type": "code",
   "execution_count": 31,
   "metadata": {},
   "outputs": [
    {
     "name": "stderr",
     "output_type": "stream",
     "text": [
      "<ipython-input-31-b08a91652dd4>:2: SettingWithCopyWarning: \n",
      "A value is trying to be set on a copy of a slice from a DataFrame.\n",
      "Try using .loc[row_indexer,col_indexer] = value instead\n",
      "\n",
      "See the caveats in the documentation: https://pandas.pydata.org/pandas-docs/stable/user_guide/indexing.html#returning-a-view-versus-a-copy\n",
      "  topten_updated_df['Fatalities'] = topten_updated_df['Total.Fatal.Injuries'] / topten_updated_df['Total.Affected.Pass']\n"
     ]
    }
   ],
   "source": [
    "#making a fatalities column for ratio of fatalities to all affected (minor, serious, fatal)\n",
    "topten_updated_df['Fatalities'] = topten_updated_df['Total.Fatal.Injuries'] / topten_updated_df['Total.Affected.Pass']"
   ]
  },
  {
   "cell_type": "code",
   "execution_count": 32,
   "metadata": {},
   "outputs": [
    {
     "data": {
      "text/plain": [
       "Index(['Unnamed: 0', 'Event.Id', 'Investigation.Type', 'Event.Date',\n",
       "       'Location', 'Country', 'Injury.Severity', 'Aircraft.damage',\n",
       "       'Aircraft.Category', 'Make', 'Model', 'Number.of.Engines',\n",
       "       'Air.carrier', 'Total.Fatal.Injuries', 'Total.Serious.Injuries',\n",
       "       'Total.Minor.Injuries', 'Total.Uninjured', 'Weather.Condition',\n",
       "       'Report.Status', 'source_cause', 'Total.Affected.Pass', 'Fatalities'],\n",
       "      dtype='object')"
      ]
     },
     "execution_count": 32,
     "metadata": {},
     "output_type": "execute_result"
    }
   ],
   "source": [
    "topten_updated_df.columns"
   ]
  },
  {
   "cell_type": "code",
   "execution_count": 33,
   "metadata": {},
   "outputs": [
    {
     "data": {
      "text/plain": [
       "Text(0.5, 1.0, 'Ratio of Make by Fatalities')"
      ]
     },
     "execution_count": 33,
     "metadata": {},
     "output_type": "execute_result"
    },
    {
     "data": {
      "image/png": "[encoded data removed]",
      "text/plain": [
       "<Figure size 432x288 with 1 Axes>"
      ]
     },
     "metadata": {
      "needs_background": "light"
     },
     "output_type": "display_data"
    }
   ],
   "source": [
    "#graph comparing fatalities and Make of airplane\n",
    "fatal_affect = topten_updated_df.groupby('Make')['Fatalities'].sum()\n",
    "\n",
    "fig, ax = plt.subplots()\n",
    "ax.bar(fatal_affect.index, fatal_affect.values)\n",
    "\n",
    "ax.tick_params(axis = 'x', rotation = 90)\n",
    "ax.set_ylabel('Fatalities')\n",
    "ax.set_xlabel('Make')\n",
    "ax.set_title('Ratio of Make by Fatalities')"
   ]
  },
  {
   "cell_type": "code",
   "execution_count": 34,
   "metadata": {},
   "outputs": [
    {
     "name": "stderr",
     "output_type": "stream",
     "text": [
      "<ipython-input-34-b6a2c1098e5a>:2: SettingWithCopyWarning: \n",
      "A value is trying to be set on a copy of a slice from a DataFrame.\n",
      "Try using .loc[row_indexer,col_indexer] = value instead\n",
      "\n",
      "See the caveats in the documentation: https://pandas.pydata.org/pandas-docs/stable/user_guide/indexing.html#returning-a-view-versus-a-copy\n",
      "  topten_updated_df['Uninjured.Ratio'] = topten_updated_df['Total.Uninjured'] / (topten_updated_df['Total.Affected.Pass'] + topten_updated_df['Total.Uninjured'])\n"
     ]
    }
   ],
   "source": [
    "#making column for uninjured ratio to all (injured & uninjured)\n",
    "topten_updated_df['Uninjured.Ratio'] = topten_updated_df['Total.Uninjured'] / (topten_updated_df['Total.Affected.Pass'] + topten_updated_df['Total.Uninjured'])"
   ]
  },
  {
   "cell_type": "code",
   "execution_count": 35,
   "metadata": {},
   "outputs": [
    {
     "data": {
      "text/plain": [
       "Text(0.5, 1.0, 'Ratio of Make by Uninjured')"
      ]
     },
     "execution_count": 35,
     "metadata": {},
     "output_type": "execute_result"
    },
    {
     "data": {
      "image/png": "[encoded data removed]",
      "text/plain": [
       "<Figure size 432x288 with 1 Axes>"
      ]
     },
     "metadata": {
      "needs_background": "light"
     },
     "output_type": "display_data"
    }
   ],
   "source": [
    "#graph for ratio of uninjured compared to make of airplane\n",
    "uninjured_affect = topten_updated_df.groupby('Make')['Uninjured.Ratio'].sum()\n",
    "\n",
    "fig, ax = plt.subplots()\n",
    "ax.bar(uninjured_affect.index, uninjured_affect.values)\n",
    "\n",
    "ax.tick_params(axis = 'x', rotation = 90)\n",
    "ax.set_ylabel('Uninjured')\n",
    "ax.set_xlabel('Make')\n",
    "ax.set_title('Ratio of Make by Uninjured')"
   ]
  },
  {
   "cell_type": "markdown",
   "metadata": {},
   "source": [
    "For the Risk of Personal Injury section, I wanted to collect the total number of passengers that were involved in adverse events, ranging from minor injuries, serious injuries, and fatalities. This is shown on a graph for the top ten airplane makes with data that ranges from 2008 to 2022. I discovered that Cessna had the highest number of injuries, where as Maule had the lowest. From there I looked specifically at fatalities. For the fatalities graph, I made a ratio of fatalities to the total number of injuries (minor, serious, fatal) and compared that to the top ten airplane makes. Within this graph, we see that Cirrus Design Corp. had the highest fatality ratio, and Boeing had the lowest. The last major graph focused on uninjured in order to get a sense of what the safest airplane makes would be. I discovered that Boeing had the highest ratio of uninjured passengers, whereas Mooney had the lowest ratio.\n",
    "\n",
    "Recommendation: I would recommend avoiding purchasing or use of Cessna make airplanes, and would recommend to further look into Boeing as well as Maule airplanes."
   ]
  },
  {
   "cell_type": "markdown",
   "metadata": {},
   "source": [
    "## Summary\n",
    "- Invest in Boeing airplanes\n",
    "    - Lowest ratio of accidents to events\n",
    "    - A lower chance of both injury and fatality when flying. \n",
    "- Any Boeing model except for model 737. \n",
    "    - If we invest, we need to consider the following:\n",
    "        - Boeing is the only outlier with more mechanical error than human error.\n",
    "        - There needs to be an investment on a high quality maintenance team.\n",
    "- Commercial aircraft over private\n",
    "    - Most accidents occur on smaller private aircrafts (one-engine/reciprocating engine).\n",
    "    - i.e. Cessna (High human errors with insufficient safety measures)\n"
   ]
  }
 ],
 "metadata": {
  "kernelspec": {
   "display_name": "Python (learn-env)",
   "language": "python",
   "name": "learn-env"
  },
  "language_info": {
   "codemirror_mode": {
    "name": "ipython",
    "version": 3
   },
   "file_extension": ".py",
   "mimetype": "text/x-python",
   "name": "python",
   "nbconvert_exporter": "python",
   "pygments_lexer": "ipython3",
   "version": "3.9.18"
  }
 },
 "nbformat": 4,
 "nbformat_minor": 4
}
