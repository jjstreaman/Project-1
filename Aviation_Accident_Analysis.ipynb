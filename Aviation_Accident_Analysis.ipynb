{
 "cells": [
  {
   "cell_type": "markdown",
   "metadata": {},
   "source": [
    "# Aviation Accidents Analysis"
   ]
  },
  {
   "cell_type": "markdown",
   "metadata": {},
   "source": [
    "## Overview\n",
    "\n",
    "This project analyzes data of aviation accidents to recommend the best aircrafts for a business to invest in."
   ]
  },
  {
   "cell_type": "markdown",
   "metadata": {},
   "source": [
    "## Business Problem\n",
    "\n",
    "Your company has decided to expand the industries to diversify its portfolio and has chosen aviation to invest in. They are interested in finding aircrafts for private and commercial enterprises. However, they do not know the potential risks that come with each aircraft make, so it's your job to determine the potential risks that may arise on investment. Finally, analyze them to yield three actionable recommendations for the head of their Aviation team to make.\n"
   ]
  },
  {
   "cell_type": "code",
   "execution_count": 1,
   "metadata": {},
   "outputs": [],
   "source": [
    "# import python packages for analyis, computation and visualizations\n",
    "import pandas as pd\n",
    "import matplotlib.pyplot as plt\n",
    "import seaborn as sns\n",
    "import numpy as np"
   ]
  },
  {
   "cell_type": "code",
   "execution_count": 2,
   "metadata": {},
   "outputs": [],
   "source": [
    "# Loading in the data with pd.read_csv\n",
    "Aviation_data = pd.read_csv('topten_real_final.csv', low_memory=False, encoding='latin-1')\n",
    "USState_Codes = pd.read_csv('archive/USState_Codes.csv', low_memory=False, encoding='latin-1')"
   ]
  },
  {
   "cell_type": "code",
   "execution_count": 3,
   "metadata": {
    "scrolled": false
   },
   "outputs": [
    {
     "name": "stdout",
     "output_type": "stream",
     "text": [
      "<class 'pandas.core.frame.DataFrame'>\n",
      "RangeIndex: 9607 entries, 0 to 9606\n",
      "Data columns (total 19 columns):\n",
      " #   Column                  Non-Null Count  Dtype  \n",
      "---  ------                  --------------  -----  \n",
      " 0   Unnamed: 0              9607 non-null   int64  \n",
      " 1   Event.Id                9607 non-null   object \n",
      " 2   Investigation.Type      9607 non-null   object \n",
      " 3   Event.Date              9607 non-null   int64  \n",
      " 4   Location                9607 non-null   object \n",
      " 5   Country                 9607 non-null   object \n",
      " 6   Injury.Severity         9607 non-null   object \n",
      " 7   Aircraft.damage         9607 non-null   object \n",
      " 8   Aircraft.Category       9607 non-null   object \n",
      " 9   Make                    9607 non-null   object \n",
      " 10  Model                   9607 non-null   object \n",
      " 11  Number.of.Engines       9607 non-null   float64\n",
      " 12  Air.carrier             5400 non-null   object \n",
      " 13  Total.Fatal.Injuries    9607 non-null   float64\n",
      " 14  Total.Serious.Injuries  9607 non-null   float64\n",
      " 15  Total.Minor.Injuries    9607 non-null   float64\n",
      " 16  Total.Uninjured         9607 non-null   float64\n",
      " 17  Weather.Condition       9607 non-null   object \n",
      " 18  Report.Status           9607 non-null   object \n",
      "dtypes: float64(5), int64(2), object(12)\n",
      "memory usage: 1.4+ MB\n"
     ]
    }
   ],
   "source": [
    "# Summarize data frame info\n",
    "Aviation_data.info()"
   ]
  },
  {
   "cell_type": "code",
   "execution_count": 4,
   "metadata": {
    "scrolled": true
   },
   "outputs": [
    {
     "data": {
      "text/html": [
       "<div>\n",
       "<style scoped>\n",
       "    .dataframe tbody tr th:only-of-type {\n",
       "        vertical-align: middle;\n",
       "    }\n",
       "\n",
       "    .dataframe tbody tr th {\n",
       "        vertical-align: top;\n",
       "    }\n",
       "\n",
       "    .dataframe thead th {\n",
       "        text-align: right;\n",
       "    }\n",
       "</style>\n",
       "<table border=\"1\" class=\"dataframe\">\n",
       "  <thead>\n",
       "    <tr style=\"text-align: right;\">\n",
       "      <th></th>\n",
       "      <th>Unnamed: 0</th>\n",
       "      <th>Event.Date</th>\n",
       "      <th>Number.of.Engines</th>\n",
       "      <th>Total.Fatal.Injuries</th>\n",
       "      <th>Total.Serious.Injuries</th>\n",
       "      <th>Total.Minor.Injuries</th>\n",
       "      <th>Total.Uninjured</th>\n",
       "    </tr>\n",
       "  </thead>\n",
       "  <tbody>\n",
       "    <tr>\n",
       "      <th>count</th>\n",
       "      <td>9607.000000</td>\n",
       "      <td>9607.000000</td>\n",
       "      <td>9607.000000</td>\n",
       "      <td>9607.000000</td>\n",
       "      <td>9607.000000</td>\n",
       "      <td>9607.000000</td>\n",
       "      <td>9607.000000</td>\n",
       "    </tr>\n",
       "    <tr>\n",
       "      <th>mean</th>\n",
       "      <td>74736.649110</td>\n",
       "      <td>2013.729989</td>\n",
       "      <td>1.129652</td>\n",
       "      <td>0.269907</td>\n",
       "      <td>0.300198</td>\n",
       "      <td>0.143333</td>\n",
       "      <td>4.054231</td>\n",
       "    </tr>\n",
       "    <tr>\n",
       "      <th>std</th>\n",
       "      <td>6510.109544</td>\n",
       "      <td>3.905393</td>\n",
       "      <td>0.345776</td>\n",
       "      <td>0.784846</td>\n",
       "      <td>2.270722</td>\n",
       "      <td>0.696174</td>\n",
       "      <td>22.769401</td>\n",
       "    </tr>\n",
       "    <tr>\n",
       "      <th>min</th>\n",
       "      <td>63915.000000</td>\n",
       "      <td>2008.000000</td>\n",
       "      <td>1.000000</td>\n",
       "      <td>0.000000</td>\n",
       "      <td>0.000000</td>\n",
       "      <td>0.000000</td>\n",
       "      <td>0.000000</td>\n",
       "    </tr>\n",
       "    <tr>\n",
       "      <th>25%</th>\n",
       "      <td>69149.000000</td>\n",
       "      <td>2010.000000</td>\n",
       "      <td>1.000000</td>\n",
       "      <td>0.000000</td>\n",
       "      <td>0.000000</td>\n",
       "      <td>0.000000</td>\n",
       "      <td>0.000000</td>\n",
       "    </tr>\n",
       "    <tr>\n",
       "      <th>50%</th>\n",
       "      <td>74495.000000</td>\n",
       "      <td>2013.000000</td>\n",
       "      <td>1.000000</td>\n",
       "      <td>0.000000</td>\n",
       "      <td>0.000000</td>\n",
       "      <td>0.000000</td>\n",
       "      <td>1.000000</td>\n",
       "    </tr>\n",
       "    <tr>\n",
       "      <th>75%</th>\n",
       "      <td>80029.500000</td>\n",
       "      <td>2017.000000</td>\n",
       "      <td>1.000000</td>\n",
       "      <td>0.000000</td>\n",
       "      <td>0.000000</td>\n",
       "      <td>0.000000</td>\n",
       "      <td>2.000000</td>\n",
       "    </tr>\n",
       "    <tr>\n",
       "      <th>max</th>\n",
       "      <td>88661.000000</td>\n",
       "      <td>2022.000000</td>\n",
       "      <td>4.000000</td>\n",
       "      <td>11.000000</td>\n",
       "      <td>137.000000</td>\n",
       "      <td>50.000000</td>\n",
       "      <td>394.000000</td>\n",
       "    </tr>\n",
       "  </tbody>\n",
       "</table>\n",
       "</div>"
      ],
      "text/plain": [
       "         Unnamed: 0   Event.Date  Number.of.Engines  Total.Fatal.Injuries  \\\n",
       "count   9607.000000  9607.000000        9607.000000           9607.000000   \n",
       "mean   74736.649110  2013.729989           1.129652              0.269907   \n",
       "std     6510.109544     3.905393           0.345776              0.784846   \n",
       "min    63915.000000  2008.000000           1.000000              0.000000   \n",
       "25%    69149.000000  2010.000000           1.000000              0.000000   \n",
       "50%    74495.000000  2013.000000           1.000000              0.000000   \n",
       "75%    80029.500000  2017.000000           1.000000              0.000000   \n",
       "max    88661.000000  2022.000000           4.000000             11.000000   \n",
       "\n",
       "       Total.Serious.Injuries  Total.Minor.Injuries  Total.Uninjured  \n",
       "count             9607.000000           9607.000000      9607.000000  \n",
       "mean                 0.300198              0.143333         4.054231  \n",
       "std                  2.270722              0.696174        22.769401  \n",
       "min                  0.000000              0.000000         0.000000  \n",
       "25%                  0.000000              0.000000         0.000000  \n",
       "50%                  0.000000              0.000000         1.000000  \n",
       "75%                  0.000000              0.000000         2.000000  \n",
       "max                137.000000             50.000000       394.000000  "
      ]
     },
     "execution_count": 4,
     "metadata": {},
     "output_type": "execute_result"
    }
   ],
   "source": [
    "# Summarize data frame statistics\n",
    "Aviation_data.describe()"
   ]
  },
  {
   "cell_type": "code",
   "execution_count": 5,
   "metadata": {},
   "outputs": [
    {
     "data": {
      "image/png": "[encoded data removed]",
      "text/plain": [
       "<Figure size 576x432 with 1 Axes>"
      ]
     },
     "metadata": {
      "needs_background": "light"
     },
     "output_type": "display_data"
    }
   ],
   "source": [
    "# plot top ten to show - might use this in analysis\n",
    "fig, ax = plt.subplots(figsize=(8,6))\n",
    "top_ten_makes = Aviation_data.Make.value_counts()\n",
    "top_ten_makes.plot.bar()\n",
    "\n",
    "ax.set_title('Top Ten Airplane Makes')\n",
    "ax.set_xlabel('Top Ten Makes')\n",
    "ax.set_ylabel('Frequency')\n",
    "\n",
    "plt.savefig('Top Ten Airplane Makes')\n",
    "plt.show();"
   ]
  },
  {
   "cell_type": "code",
   "execution_count": 6,
   "metadata": {},
   "outputs": [
    {
     "data": {
      "text/plain": [
       "Cessna                4638\n",
       "Piper                 2691\n",
       "Beech                  935\n",
       "Boeing                 291\n",
       "Mooney                 238\n",
       "Air Tractor Inc        192\n",
       "Cirrus Design Corp     169\n",
       "Bellanca               159\n",
       "Maule                  150\n",
       "Aeronca                144\n",
       "Name: Make, dtype: int64"
      ]
     },
     "execution_count": 6,
     "metadata": {},
     "output_type": "execute_result"
    }
   ],
   "source": [
    "top_ten_makes "
   ]
  },
  {
   "cell_type": "markdown",
   "metadata": {},
   "source": [
    "## Data Understanding\n",
    "\n",
    "The data includes information from the National Transportation Safety Board that includes aviation accident data from 1962 to 2023 about civil aviation accidents and selected incidents in the United States and international waters. This information will be useful for finding the best aircraft models to invest in based on previous accidents.\n",
    "\n",
    "The Avaiation dataframe includes 18 columns. For each incident it covers 18 categories, including but not limited to the investigation type, make and model of the plane, weather and location data, information about the flight, and damage to the plane and injuries to passengers. In the US State Codes dataframe there are two columns, one with the state names and their corresponding code in the neighboring cell. There is no missing data and there are only object data types. This information will be analyzed to create visualizations which will subsequently aid in the final recommendations.\n",
    "\n"
   ]
  },
  {
   "cell_type": "markdown",
   "metadata": {},
   "source": [
    "## Data Analysis\n",
    "This analysis centers on aviation accidents within the United States and international waters, and is conducted with the aim of providing valuable insights to your company’s stakeholders. The ultimate objective is to provide recommendations about which aircraft models would be most profitable, with the least potential risk on investing."
   ]
  },
  {
   "cell_type": "markdown",
   "metadata": {},
   "source": [
    "## Accident versus Incident\n",
    "\n",
    "If an event appears in this dataset it means something went wrong, but what? There are two types of events, accidents and incidents. An event is defined as an accident when an injury occurs. Incident means an occurrence other than an accident, where something went wrong but did not escalate to an accident due to safety measures. \n",
    "Based on the analysis below we will draw conclusions to see which aircraft makes have sufficient safety measures."
   ]
  },
  {
   "cell_type": "code",
   "execution_count": 7,
   "metadata": {},
   "outputs": [],
   "source": [
    "# Create pivot table to illustrate count of accident and incident per make\n",
    "grouped = Aviation_data.pivot_table(index='Make', columns='Investigation.Type', aggfunc='size', fill_value=0)"
   ]
  },
  {
   "cell_type": "code",
   "execution_count": 8,
   "metadata": {},
   "outputs": [],
   "source": [
    "# Add a new column for the ratio of accidents to total incidents and accidents\n",
    "grouped['Ratio'] = grouped['Accident'] / (grouped['Accident'] + grouped['Incident'])"
   ]
  },
  {
   "cell_type": "code",
   "execution_count": 9,
   "metadata": {},
   "outputs": [
    {
     "data": {
      "text/html": [
       "<div>\n",
       "<style scoped>\n",
       "    .dataframe tbody tr th:only-of-type {\n",
       "        vertical-align: middle;\n",
       "    }\n",
       "\n",
       "    .dataframe tbody tr th {\n",
       "        vertical-align: top;\n",
       "    }\n",
       "\n",
       "    .dataframe thead th {\n",
       "        text-align: right;\n",
       "    }\n",
       "</style>\n",
       "<table border=\"1\" class=\"dataframe\">\n",
       "  <thead>\n",
       "    <tr style=\"text-align: right;\">\n",
       "      <th>Investigation.Type</th>\n",
       "      <th>Accident</th>\n",
       "      <th>Incident</th>\n",
       "      <th>Ratio</th>\n",
       "    </tr>\n",
       "    <tr>\n",
       "      <th>Make</th>\n",
       "      <th></th>\n",
       "      <th></th>\n",
       "      <th></th>\n",
       "    </tr>\n",
       "  </thead>\n",
       "  <tbody>\n",
       "    <tr>\n",
       "      <th>Aeronca</th>\n",
       "      <td>144</td>\n",
       "      <td>0</td>\n",
       "      <td>1.000000</td>\n",
       "    </tr>\n",
       "    <tr>\n",
       "      <th>Air Tractor Inc</th>\n",
       "      <td>191</td>\n",
       "      <td>1</td>\n",
       "      <td>0.994792</td>\n",
       "    </tr>\n",
       "    <tr>\n",
       "      <th>Beech</th>\n",
       "      <td>918</td>\n",
       "      <td>17</td>\n",
       "      <td>0.981818</td>\n",
       "    </tr>\n",
       "    <tr>\n",
       "      <th>Bellanca</th>\n",
       "      <td>158</td>\n",
       "      <td>1</td>\n",
       "      <td>0.993711</td>\n",
       "    </tr>\n",
       "    <tr>\n",
       "      <th>Boeing</th>\n",
       "      <td>212</td>\n",
       "      <td>79</td>\n",
       "      <td>0.728522</td>\n",
       "    </tr>\n",
       "    <tr>\n",
       "      <th>Cessna</th>\n",
       "      <td>4580</td>\n",
       "      <td>58</td>\n",
       "      <td>0.987495</td>\n",
       "    </tr>\n",
       "    <tr>\n",
       "      <th>Cirrus Design Corp</th>\n",
       "      <td>159</td>\n",
       "      <td>10</td>\n",
       "      <td>0.940828</td>\n",
       "    </tr>\n",
       "    <tr>\n",
       "      <th>Maule</th>\n",
       "      <td>150</td>\n",
       "      <td>0</td>\n",
       "      <td>1.000000</td>\n",
       "    </tr>\n",
       "    <tr>\n",
       "      <th>Mooney</th>\n",
       "      <td>234</td>\n",
       "      <td>4</td>\n",
       "      <td>0.983193</td>\n",
       "    </tr>\n",
       "    <tr>\n",
       "      <th>Piper</th>\n",
       "      <td>2670</td>\n",
       "      <td>21</td>\n",
       "      <td>0.992196</td>\n",
       "    </tr>\n",
       "  </tbody>\n",
       "</table>\n",
       "</div>"
      ],
      "text/plain": [
       "Investigation.Type  Accident  Incident     Ratio\n",
       "Make                                            \n",
       "Aeronca                  144         0  1.000000\n",
       "Air Tractor Inc          191         1  0.994792\n",
       "Beech                    918        17  0.981818\n",
       "Bellanca                 158         1  0.993711\n",
       "Boeing                   212        79  0.728522\n",
       "Cessna                  4580        58  0.987495\n",
       "Cirrus Design Corp       159        10  0.940828\n",
       "Maule                    150         0  1.000000\n",
       "Mooney                   234         4  0.983193\n",
       "Piper                   2670        21  0.992196"
      ]
     },
     "execution_count": 9,
     "metadata": {},
     "output_type": "execute_result"
    }
   ],
   "source": [
    "grouped "
   ]
  },
  {
   "cell_type": "markdown",
   "metadata": {},
   "source": [
    "Table. \n",
    "\n",
    "The table is divided by make and has counts for both accidents and incidents. It also contains the ratio of accidents to total events. If the ratio trends towards 1 it has a high frequency of accidents and the closer it is to 0, the lower the frequency of accidents. This highlights the makes that have safety measures in place to avoid an incident escalating to an accident. \n",
    "\n",
    "Findings.\n",
    "\n",
    "There isnt a widespread variation between ratios given the small metric.\n",
    "Boeing's ratio is the lowest with 0.728522 which brings it out on top with best safety measures in this analysis. Boeing is follwed by Beech and Mooney for second and third and Aeronca and Maule tie for last. According to this table, Boeing, Beech and Mooney have the most efficient safety measures in place."
   ]
  },
  {
   "cell_type": "markdown",
   "metadata": {},
   "source": [
    "## Pilots Negligence or Engine Failure"
   ]
  },
  {
   "cell_type": "markdown",
   "metadata": {},
   "source": [
    "## Risk of Aircraft Damage "
   ]
  },
  {
   "cell_type": "markdown",
   "metadata": {},
   "source": [
    "## Risk of Personal Injury"
   ]
  },
  {
   "cell_type": "markdown",
   "metadata": {},
   "source": []
  }
 ],
 "metadata": {
  "kernelspec": {
   "display_name": "Python (learn-env)",
   "language": "python",
   "name": "learn-env"
  },
  "language_info": {
   "codemirror_mode": {
    "name": "ipython",
    "version": 3
   },
   "file_extension": ".py",
   "mimetype": "text/x-python",
   "name": "python",
   "nbconvert_exporter": "python",
   "pygments_lexer": "ipython3",
   "version": "3.8.5"
  }
 },
 "nbformat": 4,
 "nbformat_minor": 4
}
